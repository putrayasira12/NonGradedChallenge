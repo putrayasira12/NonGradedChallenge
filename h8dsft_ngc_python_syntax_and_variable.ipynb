{
 "cells": [
  {
   "cell_type": "markdown",
   "metadata": {},
   "source": [
    "# Non Graded Challenge\n",
    "### Putra Rizqa Yasira"
   ]
  },
  {
   "cell_type": "markdown",
   "metadata": {},
   "source": [
    "## Task 1"
   ]
  },
  {
   "cell_type": "markdown",
   "metadata": {},
   "source": [
    "Given list of customer_id that doing transaction in 1 day:\n",
    "\n",
    "customer_id = ['B818', 'A461', 'A092', 'A082', 'B341', 'A005', 'A092', 'A461','B219', 'B904', 'A901', 'A083', 'B904', 'A092', 'B341', 'B821','B341', 'B821', 'B904', 'B818', 'A901', 'A083', 'B818', 'A082','B219', 'B219', 'A083', 'A901', 'A082', 'B341', 'B341', 'A083','A082', 'B219', 'B439', 'A461', 'A005', 'A901', 'B341', 'A082','A083', 'A461', 'A083', 'A901', 'A461', 'A083', 'A082', 'A083','B341', 'A901', 'A082', 'A461', 'B219', 'A083', 'B818', 'B821','A092', 'B341', 'A461', 'A092', 'A083', 'B821', 'A092']\n",
    "\n",
    "How many unique customer_id from above list?\n"
   ]
  },
  {
   "cell_type": "code",
   "execution_count": 30,
   "metadata": {},
   "outputs": [
    {
     "data": {
      "text/plain": [
       "['B818',\n",
       " 'A461',\n",
       " 'A092',\n",
       " 'A082',\n",
       " 'B341',\n",
       " 'A005',\n",
       " 'A092',\n",
       " 'A461',\n",
       " 'B219',\n",
       " 'B904',\n",
       " 'A901',\n",
       " 'A083',\n",
       " 'B904',\n",
       " 'A092',\n",
       " 'B341',\n",
       " 'B821',\n",
       " 'B341',\n",
       " 'B821',\n",
       " 'B904',\n",
       " 'B818',\n",
       " 'A901',\n",
       " 'A083',\n",
       " 'B818',\n",
       " 'A082',\n",
       " 'B219',\n",
       " 'B219',\n",
       " 'A083',\n",
       " 'A901',\n",
       " 'A082',\n",
       " 'B341',\n",
       " 'B341',\n",
       " 'A083',\n",
       " 'A082',\n",
       " 'B219',\n",
       " 'B439',\n",
       " 'A461',\n",
       " 'A005',\n",
       " 'A901',\n",
       " 'B341',\n",
       " 'A082',\n",
       " 'A083',\n",
       " 'A461',\n",
       " 'A083',\n",
       " 'A901',\n",
       " 'A461',\n",
       " 'A083',\n",
       " 'A082',\n",
       " 'A083',\n",
       " 'B341',\n",
       " 'A901',\n",
       " 'A082',\n",
       " 'A461',\n",
       " 'B219',\n",
       " 'A083',\n",
       " 'B818',\n",
       " 'B821',\n",
       " 'A092',\n",
       " 'B341',\n",
       " 'A461',\n",
       " 'A092',\n",
       " 'A083',\n",
       " 'B821',\n",
       " 'A092']"
      ]
     },
     "execution_count": 30,
     "metadata": {},
     "output_type": "execute_result"
    }
   ],
   "source": [
    "customer_id = ['B818', 'A461', 'A092', 'A082', 'B341', 'A005', 'A092', 'A461','B219', 'B904', 'A901', 'A083', 'B904', 'A092', 'B341', 'B821','B341', 'B821', 'B904', 'B818', 'A901', 'A083', 'B818', 'A082','B219', 'B219', 'A083', 'A901', 'A082', 'B341', 'B341', 'A083','A082', 'B219', 'B439', 'A461', 'A005', 'A901', 'B341', 'A082','A083', 'A461', 'A083', 'A901', 'A461', 'A083', 'A082', 'A083','B341', 'A901', 'A082', 'A461', 'B219', 'A083', 'B818', 'B821','A092', 'B341', 'A461', 'A092', 'A083', 'B821', 'A092']\n",
    "\n",
    "customer_id"
   ]
  },
  {
   "cell_type": "code",
   "execution_count": 31,
   "metadata": {},
   "outputs": [
    {
     "name": "stdout",
     "output_type": "stream",
     "text": [
      "All unique data  {'B219', 'A901', 'A092', 'A005', 'B439', 'B821', 'A461', 'B818', 'B341', 'B904', 'A083', 'A082'}\n"
     ]
    }
   ],
   "source": [
    "setCustomerid = set(customer_id)\n",
    "\n",
    "print(\"All unique data \",setCustomerid)"
   ]
  },
  {
   "cell_type": "code",
   "execution_count": 32,
   "metadata": {},
   "outputs": [
    {
     "name": "stdout",
     "output_type": "stream",
     "text": [
      "Total of unique data  12\n"
     ]
    }
   ],
   "source": [
    "print(\"Total of unique data \",len(setCustomerid))"
   ]
  },
  {
   "cell_type": "markdown",
   "metadata": {},
   "source": [
    "## Task 2"
   ]
  },
  {
   "cell_type": "markdown",
   "metadata": {},
   "source": [
    "Given list of:\n",
    "\n",
    "Data = [1, 4, 9, 16, 25, 36, 49,  64, 81, 100]\n",
    "\n",
    "Use indexing so you can get this output:\n",
    "\n",
    "a.16\n",
    "\n",
    "b.[36, 49, 64, 81]\n",
    "\n",
    "c.[100, 81, 64, 49, 36, 25, 16, 9, 4, 1]"
   ]
  },
  {
   "cell_type": "code",
   "execution_count": 33,
   "metadata": {},
   "outputs": [
    {
     "name": "stdout",
     "output_type": "stream",
     "text": [
      "all data :  [1, 4, 9, 16, 25, 36, 49, 64, 81, 100]\n"
     ]
    }
   ],
   "source": [
    "Data = [1, 4, 9, 16, 25, 36, 49,  64, 81, 100]\n",
    "\n",
    "print(\"all data : \" ,Data)"
   ]
  },
  {
   "cell_type": "markdown",
   "metadata": {},
   "source": [
    "a.16"
   ]
  },
  {
   "cell_type": "code",
   "execution_count": 34,
   "metadata": {},
   "outputs": [
    {
     "data": {
      "text/plain": [
       "16"
      ]
     },
     "execution_count": 34,
     "metadata": {},
     "output_type": "execute_result"
    }
   ],
   "source": [
    "Data[3]"
   ]
  },
  {
   "cell_type": "markdown",
   "metadata": {},
   "source": [
    "b.[36, 49, 64, 81]"
   ]
  },
  {
   "cell_type": "code",
   "execution_count": 35,
   "metadata": {},
   "outputs": [
    {
     "data": {
      "text/plain": [
       "[36, 49, 64, 81]"
      ]
     },
     "execution_count": 35,
     "metadata": {},
     "output_type": "execute_result"
    }
   ],
   "source": [
    "Data[5:9]"
   ]
  },
  {
   "cell_type": "markdown",
   "metadata": {},
   "source": [
    "c.[100, 81, 64, 49, 36, 25, 16, 9, 4, 1]"
   ]
  },
  {
   "cell_type": "code",
   "execution_count": 42,
   "metadata": {},
   "outputs": [
    {
     "name": "stdout",
     "output_type": "stream",
     "text": [
      "[100, 81, 64, 49, 36, 25, 16, 9, 4, 1]\n"
     ]
    }
   ],
   "source": [
    "Data.reverse()\n",
    "\n",
    "print(Data)"
   ]
  },
  {
   "cell_type": "markdown",
   "metadata": {},
   "source": [
    "## Task 3"
   ]
  },
  {
   "cell_type": "markdown",
   "metadata": {},
   "source": [
    "Given a dictionary of:\n",
    "\n",
    "provinsi = {'Nanggroe Aceh Darussalam': 'Aceh',\n",
    "            'Sumatera Selatan': 'Palembang',\n",
    "            'Kalimantan Barat': 'Pontianak',\n",
    "            'Jawa Timur': 'Madiun',\n",
    "            'Sulawesi Selatan': 'Makassar','Maluku': 'Ambon'}\n",
    "\n",
    "What python command can be use to:\n",
    "\n",
    "a.Get list of keys available in dictionary\n",
    "\n",
    "b.Change 'Jawa Timur' value from 'Madiun'  to 'Surabaya'\n"
   ]
  },
  {
   "cell_type": "code",
   "execution_count": 37,
   "metadata": {},
   "outputs": [
    {
     "data": {
      "text/plain": [
       "{'Nanggroe Aceh Darussalam': 'Aceh',\n",
       " 'Sumatera Selatan': 'Palembang',\n",
       " 'Kalimantan Barat': 'Pontianak',\n",
       " 'Jawa Timur': 'Madiun',\n",
       " 'Sulawesi Selatan': 'Makassar',\n",
       " 'Maluku': 'Ambon'}"
      ]
     },
     "execution_count": 37,
     "metadata": {},
     "output_type": "execute_result"
    }
   ],
   "source": [
    "provinsi = {'Nanggroe Aceh Darussalam': 'Aceh',\n",
    "            'Sumatera Selatan': 'Palembang',\n",
    "            'Kalimantan Barat': 'Pontianak',\n",
    "            'Jawa Timur': 'Madiun',\n",
    "            'Sulawesi Selatan': 'Makassar','Maluku': 'Ambon'}\n",
    "\n",
    "provinsi"
   ]
  },
  {
   "cell_type": "markdown",
   "metadata": {},
   "source": [
    "a.Get list of keys available in dictionary"
   ]
  },
  {
   "cell_type": "code",
   "execution_count": 38,
   "metadata": {},
   "outputs": [
    {
     "data": {
      "text/plain": [
       "dict_keys(['Nanggroe Aceh Darussalam', 'Sumatera Selatan', 'Kalimantan Barat', 'Jawa Timur', 'Sulawesi Selatan', 'Maluku'])"
      ]
     },
     "execution_count": 38,
     "metadata": {},
     "output_type": "execute_result"
    }
   ],
   "source": [
    "provinsi.keys()"
   ]
  },
  {
   "cell_type": "markdown",
   "metadata": {},
   "source": [
    "b.Change 'Jawa Timur' value from 'Madiun'  to 'Surabaya'"
   ]
  },
  {
   "cell_type": "code",
   "execution_count": 39,
   "metadata": {},
   "outputs": [
    {
     "data": {
      "text/plain": [
       "'Surabaya'"
      ]
     },
     "execution_count": 39,
     "metadata": {},
     "output_type": "execute_result"
    }
   ],
   "source": [
    "provinsi['Jawa Timur'] = 'Surabaya'\n",
    "\n",
    "provinsi['Jawa Timur']"
   ]
  },
  {
   "cell_type": "code",
   "execution_count": 40,
   "metadata": {},
   "outputs": [
    {
     "data": {
      "text/plain": [
       "{'Nanggroe Aceh Darussalam': 'Aceh',\n",
       " 'Sumatera Selatan': 'Palembang',\n",
       " 'Kalimantan Barat': 'Pontianak',\n",
       " 'Jawa Timur': 'Surabaya',\n",
       " 'Sulawesi Selatan': 'Makassar',\n",
       " 'Maluku': 'Ambon'}"
      ]
     },
     "execution_count": 40,
     "metadata": {},
     "output_type": "execute_result"
    }
   ],
   "source": [
    "provinsi"
   ]
  }
 ],
 "metadata": {
  "kernelspec": {
   "display_name": "base",
   "language": "python",
   "name": "python3"
  },
  "language_info": {
   "codemirror_mode": {
    "name": "ipython",
    "version": 3
   },
   "file_extension": ".py",
   "mimetype": "text/x-python",
   "name": "python",
   "nbconvert_exporter": "python",
   "pygments_lexer": "ipython3",
   "version": "3.9.18"
  }
 },
 "nbformat": 4,
 "nbformat_minor": 2
}
